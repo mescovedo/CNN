{
  "nbformat": 4,
  "nbformat_minor": 0,
  "metadata": {
    "colab": {
      "name": "Código_para_ver_Filtros_CNN.ipynb",
      "provenance": [],
      "authorship_tag": "ABX9TyM+lOT8RTtbL120+BygYdqY",
      "include_colab_link": true
    },
    "kernelspec": {
      "name": "python3",
      "display_name": "Python 3"
    }
  },
  "cells": [
    {
      "cell_type": "markdown",
      "metadata": {
        "id": "view-in-github",
        "colab_type": "text"
      },
      "source": [
        "<a href=\"https://colab.research.google.com/github/mescovedo/CNN/blob/main/C%C3%B3digo_para_ver_Filtros_CNN.ipynb\" target=\"_parent\"><img src=\"https://colab.research.google.com/assets/colab-badge.svg\" alt=\"Open In Colab\"/></a>"
      ]
    },
    {
      "cell_type": "code",
      "metadata": {
        "id": "rIiB45mVg-Cz"
      },
      "source": [
        "x=X_train[23000]\n",
        "\n",
        "successive_outputs = [layer.output for layer in model3.layers[1:]]\n",
        "\n",
        "visualization_model = tf.keras.models.Model(inputs = model3.input, outputs = successive_outputs)\n",
        "\n",
        "x   = x.reshape((1,) + x.shape)             \n",
        "\n",
        "successive_feature_maps = visualization_model.predict(x)\n",
        "\n",
        "layer_names = [layer.name for layer in model3.layers]\n",
        "z = 0\n",
        "for layer_name, feature_map in zip(layer_names, successive_feature_maps):\n",
        "  \n",
        "  print(feature_map.shape)\n",
        "  if len(feature_map.shape) == 4:\n",
        "    \n",
        "\n",
        "    n_features = feature_map.shape[-1]  \n",
        " \n",
        "\n",
        "    size       = feature_map.shape[ 1]  \n",
        "\n",
        "\n",
        " \n",
        "    display_grid = np.zeros((size, size * n_features))\n",
        "  \n",
        "   \n",
        "    for i in range(n_features):\n",
        "      x  = feature_map[0, :, :, i]\n",
        "      x -= x.mean()\n",
        "      x /= x.std ()\n",
        "      x *=  64\n",
        "      x += 128\n",
        "      x  = np.clip(x, 0, 255).astype('uint8')\n",
        "      display_grid[:, i * size : (i + 1) * size] = x \n",
        "\n",
        " \n",
        "\n",
        "    scale = 200 / n_features\n",
        "    plt.figure( figsize=(scale *n_features, scale) )\n",
        "    plt.title ( layer_name )\n",
        "    plt.grid  ( False )\n",
        "      \n",
        "    plt.imshow( display_grid, aspect='auto', cmap='magma' )\n",
        "          #plt.savefig('fig'+str(z)+'.pdf')\n",
        "    z+=1"
      ],
      "execution_count": null,
      "outputs": []
    },
    {
      "cell_type": "code",
      "metadata": {
        "id": "wp7n-xSahMHh"
      },
      "source": [
        "layer_names = ['1','2','3','4','5','6','7','8','9','10','11','12','13','14','15','16','17']\n",
        "\n",
        "layer_outputs = [layer.output for layer in model3.layers[1:]]#[layer.output for layer in model3.layers if layer.name in layer_names]\n",
        "activation_model = tf.keras.models.Model(inputs=model3.input, outputs=layer_outputs)\n",
        "x = X_train[23000]\n",
        "x   = x.reshape((1,) + x.shape) \n",
        "intermediate_activations = activation_model.predict(x)\n",
        "\n",
        "images_per_row = 8\n",
        "max_images = 8\n",
        "# Now let's display our feature maps\n",
        "for layer_name, layer_activation in zip(layer_names, intermediate_activations):\n",
        "    # This is the number of features in the feature map\n",
        "    n_features = layer_activation.shape[-1]\n",
        "    n_features = min(n_features, max_images)\n",
        "\n",
        "    # The feature map has shape (1, size, size, n_features)\n",
        "    size = layer_activation.shape[1]\n",
        "\n",
        "    # We will tile the activation channels in this matrix\n",
        "    n_cols = n_features // images_per_row\n",
        "    display_grid = np.zeros((size * n_cols, images_per_row * size))\n",
        "\n",
        "    # We'll tile each filter into this big horizontal grid\n",
        "    for col in range(n_cols):\n",
        "        for row in range(images_per_row):\n",
        "            channel_image = layer_activation[0,\n",
        "                                             :, :,\n",
        "                                             col * images_per_row + row]\n",
        "            # Post-process the feature to make it visually palatable\n",
        "            channel_image -= channel_image.mean()\n",
        "            channel_image /= channel_image.std()\n",
        "            channel_image *= 64\n",
        "            channel_image += 128\n",
        "            channel_image = np.clip(channel_image, 0, 255).astype('uint8')\n",
        "            display_grid[col * size : (col + 1) * size,\n",
        "                         row * size : (row + 1) * size] = channel_image\n",
        "\n",
        "    # Display the grid\n",
        "    scale = 2. / size\n",
        "    plt.figure(figsize=(scale * display_grid.shape[1],\n",
        "                        scale * display_grid.shape[0]))\n",
        "    plt.axis('off')\n",
        "    plt.title(layer_name)\n",
        "    plt.grid(False)\n",
        "    plt.imshow(display_grid, aspect='auto', cmap='magma')\n",
        "    \n",
        "plt.show()"
      ],
      "execution_count": null,
      "outputs": []
    }
  ]
}